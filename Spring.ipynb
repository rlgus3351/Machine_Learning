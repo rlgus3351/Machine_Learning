{
 "cells": [
  {
   "cell_type": "code",
   "execution_count": 2,
   "metadata": {},
   "outputs": [
    {
     "name": "stdout",
     "output_type": "stream",
     "text": [
      " * Serving Flask app '__main__' (lazy loading)\n",
      " * Environment: production\n",
      "\u001b[31m   WARNING: This is a development server. Do not use it in a production deployment.\u001b[0m\n",
      "\u001b[2m   Use a production WSGI server instead.\u001b[0m\n",
      " * Debug mode: off\n"
     ]
    },
    {
     "name": "stderr",
     "output_type": "stream",
     "text": [
      "WARNING: This is a development server. Do not use it in a production deployment. Use a production WSGI server instead.\n",
      " * Running on http://127.0.0.1:5000\n",
      "Press CTRL+C to quit\n",
      "C:\\Users\\smhrd\\AppData\\Local\\Temp\\ipykernel_53200\\1806572790.py:13: DeprecationWarning: The binary mode of fromstring is deprecated, as it behaves surprisingly on unicode inputs. Use frombuffer instead\n",
      "  npimg = np.fromstring(filestr, np.uint8) # FileStorage의 이미지를 넘파이 배열로 만듬\n",
      "127.0.0.1 - - [03/May/2023 15:44:52] \"POST /test HTTP/1.1\" 200 -\n"
     ]
    },
    {
     "name": "stdout",
     "output_type": "stream",
     "text": [
      "atest\n"
     ]
    }
   ],
   "source": [
    "from flask import Flask , request, render_template , make_response ,jsonify ## flask 라이브러리에서 Flask import\n",
    "import numpy as np\n",
    "import cv2\n",
    "import base64\n",
    "app = Flask(__name__)\n",
    "@app.route('/test', methods=['POST'])\n",
    "def rest_img_test():\n",
    "     if request.method == 'POST':\n",
    "         param = request.form.get('data')\n",
    "         print(param)\n",
    "         f = request.files['file']\n",
    "         filestr = f.read()\n",
    "         npimg = np.fromstring(filestr, np.uint8) # FileStorage의 이미지를 넘파이 배열로 만듬\n",
    "         img = cv2.imdecode(npimg, cv2.IMREAD_COLOR) # 넘파일 배열을 이미지 배열로 변환함\n",
    "         img = cv2.cvtColor(img, cv2.COLOR_BGR2GRAY) # 여기에서 처리를 하면 됨\n",
    "        #  img = cv2.Canny(image=img, threshold1=0, threshold2=360)\n",
    "         cv2.imwrite(f.filename, img)\n",
    "         img_str = base64.b64encode(cv2.imencode('.jpg', img)[1]).decode()\n",
    "         data = {\"param\": param, \"file\": img_str}\n",
    "         response = make_response(jsonify(data))\n",
    "         response.headers.add(\"Access-Control-Allow-Origin\", \"*\")\n",
    "     return response\n",
    "if __name__ == \"__main__\":\n",
    " app.run()"
   ]
  },
  {
   "cell_type": "code",
   "execution_count": null,
   "metadata": {},
   "outputs": [],
   "source": []
  }
 ],
 "metadata": {
  "kernelspec": {
   "display_name": "Python 3",
   "language": "python",
   "name": "python3"
  },
  "language_info": {
   "codemirror_mode": {
    "name": "ipython",
    "version": 3
   },
   "file_extension": ".py",
   "mimetype": "text/x-python",
   "name": "python",
   "nbconvert_exporter": "python",
   "pygments_lexer": "ipython3",
   "version": "3.11.1"
  },
  "orig_nbformat": 4
 },
 "nbformat": 4,
 "nbformat_minor": 2
}
