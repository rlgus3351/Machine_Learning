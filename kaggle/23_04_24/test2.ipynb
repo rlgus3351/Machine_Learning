{
 "cells": [
  {
   "cell_type": "code",
   "execution_count": 1,
   "metadata": {},
   "outputs": [],
   "source": [
    "import pandas as pd"
   ]
  },
  {
   "cell_type": "code",
   "execution_count": 2,
   "metadata": {},
   "outputs": [],
   "source": [
    "train = pd.read_csv('../data/train.csv', index_col='no')\n",
    "test = pd.read_csv('../data/test.csv', index_col='no')"
   ]
  },
  {
   "cell_type": "code",
   "execution_count": 3,
   "metadata": {},
   "outputs": [],
   "source": [
    "from sklearn.preprocessing import LabelEncoder\n",
    "temp =train.columns[train.dtypes=='object']\n",
    "\n",
    "le = LabelEncoder()\n",
    "for i in temp:\n",
    "    le.fit(train[i])\n",
    "    train[i] =le.transform(train[i])"
   ]
  },
  {
   "cell_type": "code",
   "execution_count": 7,
   "metadata": {},
   "outputs": [
    {
     "data": {
      "text/plain": [
       "income            1.000000\n",
       "education-num     0.331798\n",
       "relationship      0.257709\n",
       "age               0.238460\n",
       "hours-per-week    0.231045\n",
       "capital-gain      0.221387\n",
       "sex               0.215613\n",
       "marital-status    0.198866\n",
       "capital-loss      0.135645\n",
       "education         0.081312\n",
       "occupation        0.078490\n",
       "race              0.075287\n",
       "workclass         0.047796\n",
       "native-country    0.017058\n",
       "fnlwgt            0.002994\n",
       "Name: income, dtype: float64"
      ]
     },
     "execution_count": 7,
     "metadata": {},
     "output_type": "execute_result"
    }
   ],
   "source": [
    "train.corr()['income'].abs().sort_values(ascending=False)"
   ]
  },
  {
   "cell_type": "code",
   "execution_count": null,
   "metadata": {},
   "outputs": [],
   "source": [
    "from sklearn.model_selection import GridSearchCV\n",
    "\n",
    "# 튜닝할 매개변수 정의 하기, 경우의 수를 입력\n",
    "\n",
    "params = {\n",
    "    'n_estimators':[50,70,100,120,150,170],\n",
    "    'max_depth':[3,5,7,9,11,13],\n",
    "    'max_leaf_nodes':range(2,13),\n",
    "    'min_samples_split':[3,5,7,9,11,13]\n",
    "\n",
    "}\n",
    "# 임의의 모델 설정\n",
    "model = RandomForestClassifier(random_state=10)\n",
    "\n",
    "# 그리드 서치 객체 생성\n",
    "grid = GridSearchCV(model, params, cv=5, scoring='accuracy')\n",
    "\n",
    "# 그리드 서치 실행(학습한다.), 매개변수가 많을 수록 시간이 오래 걸릴 수 있음\n",
    "# 학습용 데이터 활용\n",
    "grid.fit(X_train,y_train)\n",
    "\n",
    "\n"
   ]
  },
  {
   "cell_type": "code",
   "execution_count": null,
   "metadata": {},
   "outputs": [],
   "source": [
    "# 가장 높은 성능일 때의 모델에 대한 하이퍼 파라미터 조합 확인하기\n",
    "print(\"최대 성능 : \" ,grid.best_score_)\n",
    "print(\"최대 성능일 때의 파라미터 조합 : \", grid.best_params_)\n",
    "#최대 성능 :  0.8293806517659104\n",
    "#최대 성능일 때의 파라미터 조합 :  {'max_depth': 7, 'max_leaf_nodes': 8, 'min_samples_split': 3, 'n_estimators': 100}\n",
    "#{'max_depth': 9, 'max_leaf_nodes': 10, 'min_samples_split': 3, 'n_estimators': 150}\n"
   ]
  }
 ],
 "metadata": {
  "kernelspec": {
   "display_name": "Python 3",
   "language": "python",
   "name": "python3"
  },
  "language_info": {
   "codemirror_mode": {
    "name": "ipython",
    "version": 3
   },
   "file_extension": ".py",
   "mimetype": "text/x-python",
   "name": "python",
   "nbconvert_exporter": "python",
   "pygments_lexer": "ipython3",
   "version": "3.11.1"
  },
  "orig_nbformat": 4
 },
 "nbformat": 4,
 "nbformat_minor": 2
}
