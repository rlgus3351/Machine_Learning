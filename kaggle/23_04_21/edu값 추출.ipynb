{
 "cells": [
  {
   "cell_type": "code",
   "execution_count": 1,
   "metadata": {},
   "outputs": [],
   "source": [
    "import numpy as np\n",
    "import pandas as pd\n",
    "import matplotlib.pyplot as plt\n",
    "import seaborn as sns\n",
    "\n",
    "from sklearn.preprocessing import LabelEncoder\n",
    "\n"
   ]
  },
  {
   "cell_type": "code",
   "execution_count": 2,
   "metadata": {},
   "outputs": [],
   "source": [
    "train= pd.read_csv('../data/train.csv', na_values=\"?\")\n",
    "test= pd.read_csv('../data/test.csv', na_values=\"?\" )"
   ]
  },
  {
   "cell_type": "code",
   "execution_count": 3,
   "metadata": {},
   "outputs": [],
   "source": [
    "#'workclass', 'education', 'marital-status', 'occupation',\n",
    " #      'relationship', 'race', 'sex', 'native-country'],\n",
    "  #    dtype='object'"
   ]
  },
  {
   "cell_type": "code",
   "execution_count": 4,
   "metadata": {},
   "outputs": [],
   "source": [
    "# from sklearn.preprocessing import LabelEncoder\n",
    "# temp =train.columns[train.dtypes=='object']\n",
    "\n",
    "# le = LabelEncoder()\n",
    "# for i in temp:\n",
    "#     le.fit(train[i])\n",
    "#     train[i] =le.transform(train[i])"
   ]
  },
  {
   "attachments": {
    "image.png": {
     "image/png": "[encoded data removed]"
    }
   },
   "cell_type": "markdown",
   "metadata": {},
   "source": [
    "### 상관 관계 분석\n",
    "![image.png](attachment:image.png)"
   ]
  },
  {
   "attachments": {},
   "cell_type": "markdown",
   "metadata": {},
   "source": [
    "#### education-num || education"
   ]
  },
  {
   "cell_type": "code",
   "execution_count": 5,
   "metadata": {},
   "outputs": [
    {
     "data": {
      "text/plain": [
       "array([ 7, 10, 13, 11,  5,  9, 14,  3, 15,  8,  6, 12, 16,  4,  2,  1],\n",
       "      dtype=int64)"
      ]
     },
     "execution_count": 5,
     "metadata": {},
     "output_type": "execute_result"
    }
   ],
   "source": [
    "# 값 확인\n",
    "train['education-num'].unique()"
   ]
  },
  {
   "cell_type": "code",
   "execution_count": 6,
   "metadata": {},
   "outputs": [
    {
     "data": {
      "text/plain": [
       "9     9435\n",
       "10    6558\n",
       "13    4848\n",
       "14    1587\n",
       "11    1230\n",
       "7     1057\n",
       "12     980\n",
       "6      816\n",
       "4      574\n",
       "15     500\n",
       "5      430\n",
       "8      415\n",
       "16     347\n",
       "3      334\n",
       "2      148\n",
       "1       46\n",
       "Name: education-num, dtype: int64"
      ]
     },
     "execution_count": 6,
     "metadata": {},
     "output_type": "execute_result"
    }
   ],
   "source": [
    "# 개수 확인\n",
    "train['education-num'].value_counts()"
   ]
  },
  {
   "cell_type": "code",
   "execution_count": 7,
   "metadata": {},
   "outputs": [
    {
     "data": {
      "text/plain": [
       "array([' 11th', ' Some-college', ' Bachelors', ' Assoc-voc', ' 9th',\n",
       "       ' HS-grad', ' Masters', ' 5th-6th', ' Prof-school', ' 12th',\n",
       "       ' 10th', ' Assoc-acdm', ' Doctorate', ' 7th-8th', ' 1st-4th',\n",
       "       ' Preschool'], dtype=object)"
      ]
     },
     "execution_count": 7,
     "metadata": {},
     "output_type": "execute_result"
    }
   ],
   "source": [
    "# education 확인\n",
    "train['education'].unique()"
   ]
  },
  {
   "cell_type": "code",
   "execution_count": 8,
   "metadata": {},
   "outputs": [
    {
     "data": {
      "text/plain": [
       " HS-grad         9435\n",
       " Some-college    6558\n",
       " Bachelors       4848\n",
       " Masters         1587\n",
       " Assoc-voc       1230\n",
       " 11th            1057\n",
       " Assoc-acdm       980\n",
       " 10th             816\n",
       " 7th-8th          574\n",
       " Prof-school      500\n",
       " 9th              430\n",
       " 12th             415\n",
       " Doctorate        347\n",
       " 5th-6th          334\n",
       " 1st-4th          148\n",
       " Preschool         46\n",
       "Name: education, dtype: int64"
      ]
     },
     "execution_count": 8,
     "metadata": {},
     "output_type": "execute_result"
    }
   ],
   "source": [
    "train['education'].value_counts()\n",
    "\n",
    "# HS-grad         9435 : 고졸\n",
    "# Some-college    6558 : 대학\n",
    "# Bachelors       4848 : 학사\n",
    "# Masters         1587 : 석사\n",
    "# Assoc-voc       1230 : \n",
    "# 11th            1057 : \n",
    "# Assoc-acdm       980 : \n",
    "# 10th             816 : \n",
    "# 7th-8th          574 : \n",
    "# Prof-school      500 : \n",
    "# 9th              430 : \n",
    "# 12th             415 : \n",
    "# Doctorate        347 : 박사\n",
    "# 5th-6th          334 : \n",
    "# 1st-4th          148 : \n",
    "# Preschool         46 : "
   ]
  },
  {
   "cell_type": "code",
   "execution_count": 9,
   "metadata": {},
   "outputs": [],
   "source": [
    "edu_dict={\n",
    "    \" Preschool\":\"level1\",\n",
    "    \" 1st-4th\":\"level1\",\n",
    "    \" 5th-6th\":\"level1\",\n",
    "    \" 7th-8th\":\"level1\",\n",
    "    \" 9th\":\"level1\",\n",
    "    \" 10th\":\"level2\",\n",
    "    \" 11th\":\"level2\",\n",
    "    \" 12th\":\"level2\",\n",
    "    \" HS-grad\":\"level2\",\n",
    "    \" Some-collge\":\"level3\",\n",
    "    \" Bachelors\":\"level3\",\n",
    "    \" Assoc-voc\":\"level3\",\n",
    "    \" Assoc-acdm\":\"level3\",\n",
    "    \" Masters\":\"level4\",\n",
    "    \" Prof-school\":\"level4\",\n",
    "    \" Doctorate\":\"level4\",\n",
    "}"
   ]
  },
  {
   "cell_type": "code",
   "execution_count": 10,
   "metadata": {},
   "outputs": [],
   "source": [
    "edu_title=[\n",
    "    \" Preschool\",\n",
    "    \" 1st-4th\",\n",
    "    \" 5th-6th\",\n",
    "    \" 7th-8th\",\n",
    "    \" 9th\",\n",
    "    \" 10th\",\n",
    "    \" 11th\",\n",
    "    \" 12th\",\n",
    "    \" HS-grad\",\n",
    "    \" Some-college\",\n",
    "    \" Bachelors\",\n",
    "    \" Assoc-voc\",\n",
    "    \" Assoc-acdm\",\n",
    "    \" Masters\",\n",
    "    \" Prof-school\",\n",
    "    \" Doctorate\",\n",
    "]\n",
    "\n",
    "cvt_title = ['level1']*5+['level2']*4 +['level3']*4+['level4']*3"
   ]
  },
  {
   "cell_type": "code",
   "execution_count": 11,
   "metadata": {},
   "outputs": [],
   "source": [
    "title_dict = dict(zip(edu_title, cvt_title))\n",
    "train['education'] = train['education'].map(title_dict)"
   ]
  },
  {
   "cell_type": "code",
   "execution_count": 12,
   "metadata": {},
   "outputs": [],
   "source": [
    "title_dict = dict(zip(edu_title, cvt_title))\n",
    "test['education'] = test['education'].map(title_dict)"
   ]
  },
  {
   "cell_type": "code",
   "execution_count": 13,
   "metadata": {},
   "outputs": [
    {
     "data": {
      "text/plain": [
       "level3    13616\n",
       "level2    11723\n",
       "level4     2434\n",
       "level1     1532\n",
       "Name: education, dtype: int64"
      ]
     },
     "execution_count": 13,
     "metadata": {},
     "output_type": "execute_result"
    }
   ],
   "source": [
    "train['education'].value_counts()"
   ]
  },
  {
   "cell_type": "code",
   "execution_count": 14,
   "metadata": {},
   "outputs": [
    {
     "data": {
      "image/png": "[encoded data removed]",
      "text/plain": [
       "<Figure size 1500x800 with 1 Axes>"
      ]
     },
     "metadata": {},
     "output_type": "display_data"
    }
   ],
   "source": [
    "plt.figure(figsize=(15,8))\n",
    "sns.countplot(train, x='education', hue='income')\n",
    "plt.show()"
   ]
  },
  {
   "cell_type": "code",
   "execution_count": 15,
   "metadata": {},
   "outputs": [],
   "source": [
    "train.drop('education-num', axis=1, inplace=True)\n",
    "test.drop('education-num', axis=1, inplace=True)"
   ]
  },
  {
   "cell_type": "code",
   "execution_count": 16,
   "metadata": {},
   "outputs": [],
   "source": [
    "train.to_csv(\"../data/edu_train_csv\",index=False)\n",
    "test.to_csv(\"../data/edu_test_csv\",index=False)\n"
   ]
  },
  {
   "cell_type": "code",
   "execution_count": 17,
   "metadata": {},
   "outputs": [],
   "source": [
    "#train.columns"
   ]
  },
  {
   "cell_type": "code",
   "execution_count": 18,
   "metadata": {},
   "outputs": [],
   "source": [
    "#train[train['education-num']==9]"
   ]
  },
  {
   "cell_type": "code",
   "execution_count": null,
   "metadata": {},
   "outputs": [],
   "source": []
  },
  {
   "cell_type": "code",
   "execution_count": null,
   "metadata": {},
   "outputs": [],
   "source": []
  },
  {
   "cell_type": "code",
   "execution_count": null,
   "metadata": {},
   "outputs": [],
   "source": []
  },
  {
   "cell_type": "code",
   "execution_count": null,
   "metadata": {},
   "outputs": [],
   "source": []
  }
 ],
 "metadata": {
  "kernelspec": {
   "display_name": "Python 3",
   "language": "python",
   "name": "python3"
  },
  "language_info": {
   "codemirror_mode": {
    "name": "ipython",
    "version": 3
   },
   "file_extension": ".py",
   "mimetype": "text/x-python",
   "name": "python",
   "nbconvert_exporter": "python",
   "pygments_lexer": "ipython3",
   "version": "3.11.1"
  },
  "orig_nbformat": 4
 },
 "nbformat": 4,
 "nbformat_minor": 2
}
